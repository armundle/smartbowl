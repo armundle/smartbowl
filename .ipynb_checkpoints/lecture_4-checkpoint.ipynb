{
 "metadata": {
  "name": "",
  "signature": "sha256:92e42147c4679262024029bbc46d126a9476d23f6ea5f27e1e41c6ce3eac2c99"
 },
 "nbformat": 3,
 "nbformat_minor": 0,
 "worksheets": []
}